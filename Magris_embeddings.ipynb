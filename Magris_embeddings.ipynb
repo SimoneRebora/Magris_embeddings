{
 "cells": [
  {
   "cell_type": "markdown",
   "metadata": {},
   "source": [
    "## Magris Embeddings\n",
    "\n",
    "#### Step 1\n",
    "Call libraries and load the model\n"
   ]
  },
  {
   "cell_type": "code",
   "execution_count": 1,
   "metadata": {},
   "outputs": [
    {
     "name": "stderr",
     "output_type": "stream",
     "text": [
      "/home/rsimone/anaconda3/lib/python3.7/site-packages/smart_open/smart_open_lib.py:398: UserWarning: This function is deprecated, use smart_open.open instead. See the migration notes for details: https://github.com/RaRe-Technologies/smart_open/blob/master/README.rst#migrating-to-the-new-open-function\n",
      "  'See the migration notes for details: %s' % _MIGRATION_NOTES_URL\n"
     ]
    }
   ],
   "source": [
    "import gensim\n",
    "from gensim.models import Word2Vec, KeyedVectors\n",
    "\n",
    "model = gensim.models.Word2Vec.load(\"Magris.model\")"
   ]
  },
  {
   "cell_type": "markdown",
   "metadata": {},
   "source": [
    "#### Step 2\n",
    "Operate with word vectors  \n",
    "_First operation_. \"Storia\" - \"polena\""
   ]
  },
  {
   "cell_type": "code",
   "execution_count": 2,
   "metadata": {},
   "outputs": [
    {
     "name": "stderr",
     "output_type": "stream",
     "text": [
      "/home/rsimone/anaconda3/lib/python3.7/site-packages/ipykernel_launcher.py:1: DeprecationWarning: Call to deprecated `most_similar` (Method will be removed in 4.0.0, use self.wv.most_similar() instead).\n",
      "  \"\"\"Entry point for launching an IPython kernel.\n"
     ]
    },
    {
     "data": {
      "text/plain": [
       "[('guerra', 0.3640633821487427),\n",
       " ('morte', 0.34381216764450073),\n",
       " ('armi', 0.3210366368293762),\n",
       " ('popolo', 0.30273598432540894),\n",
       " ('né', 0.29964181780815125),\n",
       " ('fede', 0.2966826558113098),\n",
       " ('pace', 0.2947526276111603),\n",
       " ('nei', 0.29270845651626587),\n",
       " ('vita', 0.28271353244781494),\n",
       " ('resto', 0.2795799672603607)]"
      ]
     },
     "execution_count": 2,
     "metadata": {},
     "output_type": "execute_result"
    }
   ],
   "source": [
    "model.most_similar(positive=['storia'], negative=['polena'])"
   ]
  },
  {
   "cell_type": "markdown",
   "metadata": {},
   "source": [
    "_Second operation_. -\"guerra\" (i.e., the opposite of war)"
   ]
  },
  {
   "cell_type": "code",
   "execution_count": 3,
   "metadata": {},
   "outputs": [
    {
     "name": "stderr",
     "output_type": "stream",
     "text": [
      "/home/rsimone/anaconda3/lib/python3.7/site-packages/ipykernel_launcher.py:1: DeprecationWarning: Call to deprecated `most_similar` (Method will be removed in 4.0.0, use self.wv.most_similar() instead).\n",
      "  \"\"\"Entry point for launching an IPython kernel.\n"
     ]
    },
    {
     "data": {
      "text/plain": [
       "[('occhi', -0.1716243028640747),\n",
       " ('acqua', -0.22246257960796356),\n",
       " ('viso', -0.24858972430229187),\n",
       " ('là', -0.29337215423583984),\n",
       " ('mi', -0.3021888732910156),\n",
       " ('sguardo', -0.30315420031547546),\n",
       " ('qua', -0.30951762199401855),\n",
       " ('sul', -0.30971699953079224),\n",
       " ('me', -0.31564098596572876),\n",
       " ('mio', -0.31727731227874756)]"
      ]
     },
     "execution_count": 3,
     "metadata": {},
     "output_type": "execute_result"
    }
   ],
   "source": [
    "model.most_similar(negative=['guerra'])"
   ]
  },
  {
   "cell_type": "markdown",
   "metadata": {},
   "source": [
    "_Third operation_. \"Storia\" + \"museo\" - \"guerra\""
   ]
  },
  {
   "cell_type": "code",
   "execution_count": 4,
   "metadata": {},
   "outputs": [
    {
     "name": "stderr",
     "output_type": "stream",
     "text": [
      "/home/rsimone/anaconda3/lib/python3.7/site-packages/ipykernel_launcher.py:1: DeprecationWarning: Call to deprecated `most_similar` (Method will be removed in 4.0.0, use self.wv.most_similar() instead).\n",
      "  \"\"\"Entry point for launching an IPython kernel.\n"
     ]
    },
    {
     "data": {
      "text/plain": [
       "[('cuore', 0.8317798376083374),\n",
       " ('libro', 0.8245949149131775),\n",
       " ('tuo', 0.8232189416885376),\n",
       " ('grembo', 0.8213244080543518),\n",
       " ('destino', 0.8173204660415649),\n",
       " ('amo', 0.8143184185028076),\n",
       " ('scrivere', 0.8141334056854248),\n",
       " ('appunto', 0.812675952911377),\n",
       " ('maestro', 0.8109429478645325),\n",
       " ('tirapiedi', 0.8096336126327515)]"
      ]
     },
     "execution_count": 4,
     "metadata": {},
     "output_type": "execute_result"
    }
   ],
   "source": [
    "model.most_similar(positive=['storia', 'museo'], negative=['guerra'])"
   ]
  },
  {
   "cell_type": "code",
   "execution_count": null,
   "metadata": {},
   "outputs": [],
   "source": []
  }
 ],
 "metadata": {
  "kernelspec": {
   "display_name": "Python 3",
   "language": "python",
   "name": "python3"
  },
  "language_info": {
   "codemirror_mode": {
    "name": "ipython",
    "version": 3
   },
   "file_extension": ".py",
   "mimetype": "text/x-python",
   "name": "python",
   "nbconvert_exporter": "python",
   "pygments_lexer": "ipython3",
   "version": "3.7.3"
  }
 },
 "nbformat": 4,
 "nbformat_minor": 2
}
